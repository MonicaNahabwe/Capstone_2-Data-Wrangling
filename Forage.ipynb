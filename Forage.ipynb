{
  "cells": [
    {
      "cell_type": "markdown",
      "metadata": {
        "id": "view-in-github",
        "colab_type": "text"
      },
      "source": [
        "<a href=\"https://colab.research.google.com/github/MonicaNahabwe/Capstone_2-Data-Wrangling/blob/main/Forage.ipynb\" target=\"_parent\"><img src=\"https://colab.research.google.com/assets/colab-badge.svg\" alt=\"Open In Colab\"/></a>"
      ]
    },
    {
      "cell_type": "markdown",
      "metadata": {
        "id": "gGerg9BAwKxg"
      },
      "source": [
        "# Data preparation and customer analytics"
      ]
    },
    {
      "cell_type": "markdown",
      "metadata": {
        "id": "vLoeA3FzIxtq"
      },
      "source": [
        "## Transaction Data\n",
        "Examine transaction data – look for inconsistencies, missing data across the data set, outliers, correctly identified category items, numeric data across all tables. If you determine any anomalies make the necessary changes in the dataset and save it. Having clean data will help when it comes to your analysis."
      ]
    },
    {
      "cell_type": "code",
      "execution_count": null,
      "metadata": {
        "id": "z1dY7BYFI0X1",
        "outputId": "21880a40-2c56-42fc-f4ab-d549d6e3a9c2"
      },
      "outputs": [
        {
          "name": "stderr",
          "output_type": "stream",
          "text": [
            "/Users/monicanahabwe/opt/anaconda3/lib/python3.9/site-packages/scipy/__init__.py:146: UserWarning: A NumPy version >=1.16.5 and <1.23.0 is required for this version of SciPy (detected version 1.23.5\n",
            "  warnings.warn(f\"A NumPy version >={np_minversion} and <{np_maxversion}\"\n"
          ]
        }
      ],
      "source": [
        "# import the required libraries\n",
        "import pandas as pd\n",
        "import matplotlib.pyplot as plt\n",
        "import seaborn as sns\n",
        "import plotly.express as px\n",
        "%matplotlib inline\n",
        "import matplotlib as mpl\n",
        "mpl.style.use('ggplot')\n",
        "import datetime\n",
        "from datetime import date"
      ]
    },
    {
      "cell_type": "markdown",
      "metadata": {
        "id": "6Qcu-iy_XODg"
      },
      "source": [
        "#### Read the transcaction data into python"
      ]
    },
    {
      "cell_type": "code",
      "execution_count": null,
      "metadata": {
        "colab": {
          "base_uri": "https://localhost:8080/",
          "height": 206
        },
        "id": "VkBQG2OnI8kK",
        "outputId": "11799e93-d697-424e-dbf7-3ac90579c5e3"
      },
      "outputs": [
        {
          "data": {
            "text/html": [
              "<div>\n",
              "<style scoped>\n",
              "    .dataframe tbody tr th:only-of-type {\n",
              "        vertical-align: middle;\n",
              "    }\n",
              "\n",
              "    .dataframe tbody tr th {\n",
              "        vertical-align: top;\n",
              "    }\n",
              "\n",
              "    .dataframe thead th {\n",
              "        text-align: right;\n",
              "    }\n",
              "</style>\n",
              "<table border=\"1\" class=\"dataframe\">\n",
              "  <thead>\n",
              "    <tr style=\"text-align: right;\">\n",
              "      <th></th>\n",
              "      <th>DATE</th>\n",
              "      <th>STORE_NBR</th>\n",
              "      <th>LYLTY_CARD_NBR</th>\n",
              "      <th>TXN_ID</th>\n",
              "      <th>PROD_NBR</th>\n",
              "      <th>PROD_NAME</th>\n",
              "      <th>PROD_QTY</th>\n",
              "      <th>TOT_SALES</th>\n",
              "    </tr>\n",
              "  </thead>\n",
              "  <tbody>\n",
              "    <tr>\n",
              "      <th>0</th>\n",
              "      <td>43390</td>\n",
              "      <td>1</td>\n",
              "      <td>1000</td>\n",
              "      <td>1</td>\n",
              "      <td>5</td>\n",
              "      <td>Natural Chip        Compny SeaSalt175g</td>\n",
              "      <td>2</td>\n",
              "      <td>6.0</td>\n",
              "    </tr>\n",
              "    <tr>\n",
              "      <th>1</th>\n",
              "      <td>43599</td>\n",
              "      <td>1</td>\n",
              "      <td>1307</td>\n",
              "      <td>348</td>\n",
              "      <td>66</td>\n",
              "      <td>CCs Nacho Cheese    175g</td>\n",
              "      <td>3</td>\n",
              "      <td>6.3</td>\n",
              "    </tr>\n",
              "    <tr>\n",
              "      <th>2</th>\n",
              "      <td>43605</td>\n",
              "      <td>1</td>\n",
              "      <td>1343</td>\n",
              "      <td>383</td>\n",
              "      <td>61</td>\n",
              "      <td>Smiths Crinkle Cut  Chips Chicken 170g</td>\n",
              "      <td>2</td>\n",
              "      <td>2.9</td>\n",
              "    </tr>\n",
              "    <tr>\n",
              "      <th>3</th>\n",
              "      <td>43329</td>\n",
              "      <td>2</td>\n",
              "      <td>2373</td>\n",
              "      <td>974</td>\n",
              "      <td>69</td>\n",
              "      <td>Smiths Chip Thinly  S/Cream&amp;Onion 175g</td>\n",
              "      <td>5</td>\n",
              "      <td>15.0</td>\n",
              "    </tr>\n",
              "    <tr>\n",
              "      <th>4</th>\n",
              "      <td>43330</td>\n",
              "      <td>2</td>\n",
              "      <td>2426</td>\n",
              "      <td>1038</td>\n",
              "      <td>108</td>\n",
              "      <td>Kettle Tortilla ChpsHny&amp;Jlpno Chili 150g</td>\n",
              "      <td>3</td>\n",
              "      <td>13.8</td>\n",
              "    </tr>\n",
              "  </tbody>\n",
              "</table>\n",
              "</div>"
            ],
            "text/plain": [
              "    DATE  STORE_NBR  LYLTY_CARD_NBR  TXN_ID  PROD_NBR  \\\n",
              "0  43390          1            1000       1         5   \n",
              "1  43599          1            1307     348        66   \n",
              "2  43605          1            1343     383        61   \n",
              "3  43329          2            2373     974        69   \n",
              "4  43330          2            2426    1038       108   \n",
              "\n",
              "                                  PROD_NAME  PROD_QTY  TOT_SALES  \n",
              "0    Natural Chip        Compny SeaSalt175g         2        6.0  \n",
              "1                  CCs Nacho Cheese    175g         3        6.3  \n",
              "2    Smiths Crinkle Cut  Chips Chicken 170g         2        2.9  \n",
              "3    Smiths Chip Thinly  S/Cream&Onion 175g         5       15.0  \n",
              "4  Kettle Tortilla ChpsHny&Jlpno Chili 150g         3       13.8  "
            ]
          },
          "execution_count": 2,
          "metadata": {},
          "output_type": "execute_result"
        }
      ],
      "source": [
        "## Transaction data\n",
        "df1=pd.read_excel(\"https://cdn.theforage.com/vinternships/companyassets/32A6DqtsbF7LbKdcq/QVI_transaction_data.xlsx\")\n",
        "df1.head()"
      ]
    },
    {
      "cell_type": "markdown",
      "metadata": {
        "id": "AU_8hRPdXGAI"
      },
      "source": [
        "#### Check for missing numbers"
      ]
    },
    {
      "cell_type": "code",
      "execution_count": null,
      "metadata": {
        "colab": {
          "base_uri": "https://localhost:8080/"
        },
        "id": "CbUKFftHKxLu",
        "outputId": "ad296967-5b51-4852-9183-159fcfafef5f"
      },
      "outputs": [
        {
          "data": {
            "text/plain": [
              "DATE              0\n",
              "STORE_NBR         0\n",
              "LYLTY_CARD_NBR    0\n",
              "TXN_ID            0\n",
              "PROD_NBR          0\n",
              "PROD_NAME         0\n",
              "PROD_QTY          0\n",
              "TOT_SALES         0\n",
              "dtype: int64"
            ]
          },
          "execution_count": 3,
          "metadata": {},
          "output_type": "execute_result"
        }
      ],
      "source": [
        "## missing data\n",
        "df1.isnull().sum()"
      ]
    },
    {
      "cell_type": "markdown",
      "metadata": {
        "id": "wHqG0rgLK53w"
      },
      "source": [
        "There are no any missing data in transaction dataset"
      ]
    },
    {
      "cell_type": "markdown",
      "metadata": {
        "id": "gGNIhCLtXXh3"
      },
      "source": [
        "#### Check for and remove all duplicates"
      ]
    },
    {
      "cell_type": "code",
      "execution_count": null,
      "metadata": {
        "colab": {
          "base_uri": "https://localhost:8080/"
        },
        "id": "jNKuAADIXjUA",
        "outputId": "62c10c03-fc24-4767-d2d6-c980b725326b"
      },
      "outputs": [
        {
          "data": {
            "text/plain": [
              "0"
            ]
          },
          "execution_count": 4,
          "metadata": {},
          "output_type": "execute_result"
        }
      ],
      "source": [
        "# Examining the duplicates and removing them\n",
        "df1.drop_duplicates(inplace=True)\n",
        "df1.duplicated().sum()"
      ]
    },
    {
      "cell_type": "markdown",
      "metadata": {
        "id": "NUmhbaAnYGqN"
      },
      "source": [
        "### Understand the data\n"
      ]
    },
    {
      "cell_type": "code",
      "execution_count": null,
      "metadata": {
        "id": "srlj8a0_Di0E",
        "outputId": "fca31c30-98c9-48b6-cf29-26f3a2dc9e21"
      },
      "outputs": [
        {
          "data": {
            "text/plain": [
              "(264835, 8)"
            ]
          },
          "execution_count": 8,
          "metadata": {},
          "output_type": "execute_result"
        }
      ],
      "source": [
        "df1.shape"
      ]
    },
    {
      "cell_type": "code",
      "execution_count": null,
      "metadata": {
        "colab": {
          "base_uri": "https://localhost:8080/"
        },
        "id": "G6XvLAymLEMb",
        "outputId": "87bce48e-fc4f-4046-f7c9-5a898734438b"
      },
      "outputs": [
        {
          "name": "stdout",
          "output_type": "stream",
          "text": [
            "<class 'pandas.core.frame.DataFrame'>\n",
            "Int64Index: 264835 entries, 0 to 264835\n",
            "Data columns (total 8 columns):\n",
            " #   Column          Non-Null Count   Dtype  \n",
            "---  ------          --------------   -----  \n",
            " 0   DATE            264835 non-null  int64  \n",
            " 1   STORE_NBR       264835 non-null  int64  \n",
            " 2   LYLTY_CARD_NBR  264835 non-null  int64  \n",
            " 3   TXN_ID          264835 non-null  int64  \n",
            " 4   PROD_NBR        264835 non-null  int64  \n",
            " 5   PROD_NAME       264835 non-null  object \n",
            " 6   PROD_QTY        264835 non-null  int64  \n",
            " 7   TOT_SALES       264835 non-null  float64\n",
            "dtypes: float64(1), int64(6), object(1)\n",
            "memory usage: 18.2+ MB\n"
          ]
        }
      ],
      "source": [
        "# look out for correctly specified data formats\n",
        "df1.info()"
      ]
    },
    {
      "cell_type": "markdown",
      "metadata": {
        "id": "tjXB3T78Di0G"
      },
      "source": [
        "Here we observe that the date is specified as int yet it is supposed to be date, thus i import date and change it"
      ]
    },
    {
      "cell_type": "markdown",
      "metadata": {
        "id": "QcIVRzCfYPiG"
      },
      "source": [
        "##### Change Date into date format"
      ]
    },
    {
      "cell_type": "code",
      "execution_count": null,
      "metadata": {
        "colab": {
          "base_uri": "https://localhost:8080/",
          "height": 200
        },
        "id": "aMSSgfnsZ-JT",
        "outputId": "52f5580a-25e2-4269-9205-579191ac6b0a"
      },
      "outputs": [
        {
          "name": "stderr",
          "output_type": "stream",
          "text": [
            "/var/folders/cl/8nh76scs57q74tk5xkdy3g2m0000gn/T/ipykernel_2292/1882255304.py:1: UserWarning: Parsing dates in DD/MM/YYYY format when dayfirst=False (the default) was specified. This may lead to inconsistently parsed dates! Specify a format to ensure consistent parsing.\n",
            "  origin = pd.Timestamp(\"30/12/1899\")\n"
          ]
        },
        {
          "data": {
            "text/html": [
              "<div>\n",
              "<style scoped>\n",
              "    .dataframe tbody tr th:only-of-type {\n",
              "        vertical-align: middle;\n",
              "    }\n",
              "\n",
              "    .dataframe tbody tr th {\n",
              "        vertical-align: top;\n",
              "    }\n",
              "\n",
              "    .dataframe thead th {\n",
              "        text-align: right;\n",
              "    }\n",
              "</style>\n",
              "<table border=\"1\" class=\"dataframe\">\n",
              "  <thead>\n",
              "    <tr style=\"text-align: right;\">\n",
              "      <th></th>\n",
              "      <th>DATE</th>\n",
              "      <th>STORE_NBR</th>\n",
              "      <th>LYLTY_CARD_NBR</th>\n",
              "      <th>TXN_ID</th>\n",
              "      <th>PROD_NBR</th>\n",
              "      <th>PROD_NAME</th>\n",
              "      <th>PROD_QTY</th>\n",
              "      <th>TOT_SALES</th>\n",
              "    </tr>\n",
              "  </thead>\n",
              "  <tbody>\n",
              "    <tr>\n",
              "      <th>0</th>\n",
              "      <td>2018-10-17</td>\n",
              "      <td>1</td>\n",
              "      <td>1000</td>\n",
              "      <td>1</td>\n",
              "      <td>5</td>\n",
              "      <td>Natural Chip        Compny SeaSalt175g</td>\n",
              "      <td>2</td>\n",
              "      <td>6.0</td>\n",
              "    </tr>\n",
              "    <tr>\n",
              "      <th>1</th>\n",
              "      <td>2019-05-14</td>\n",
              "      <td>1</td>\n",
              "      <td>1307</td>\n",
              "      <td>348</td>\n",
              "      <td>66</td>\n",
              "      <td>CCs Nacho Cheese    175g</td>\n",
              "      <td>3</td>\n",
              "      <td>6.3</td>\n",
              "    </tr>\n",
              "    <tr>\n",
              "      <th>2</th>\n",
              "      <td>2019-05-20</td>\n",
              "      <td>1</td>\n",
              "      <td>1343</td>\n",
              "      <td>383</td>\n",
              "      <td>61</td>\n",
              "      <td>Smiths Crinkle Cut  Chips Chicken 170g</td>\n",
              "      <td>2</td>\n",
              "      <td>2.9</td>\n",
              "    </tr>\n",
              "    <tr>\n",
              "      <th>3</th>\n",
              "      <td>2018-08-17</td>\n",
              "      <td>2</td>\n",
              "      <td>2373</td>\n",
              "      <td>974</td>\n",
              "      <td>69</td>\n",
              "      <td>Smiths Chip Thinly  S/Cream&amp;Onion 175g</td>\n",
              "      <td>5</td>\n",
              "      <td>15.0</td>\n",
              "    </tr>\n",
              "    <tr>\n",
              "      <th>4</th>\n",
              "      <td>2018-08-18</td>\n",
              "      <td>2</td>\n",
              "      <td>2426</td>\n",
              "      <td>1038</td>\n",
              "      <td>108</td>\n",
              "      <td>Kettle Tortilla ChpsHny&amp;Jlpno Chili 150g</td>\n",
              "      <td>3</td>\n",
              "      <td>13.8</td>\n",
              "    </tr>\n",
              "  </tbody>\n",
              "</table>\n",
              "</div>"
            ],
            "text/plain": [
              "        DATE  STORE_NBR  LYLTY_CARD_NBR  TXN_ID  PROD_NBR  \\\n",
              "0 2018-10-17          1            1000       1         5   \n",
              "1 2019-05-14          1            1307     348        66   \n",
              "2 2019-05-20          1            1343     383        61   \n",
              "3 2018-08-17          2            2373     974        69   \n",
              "4 2018-08-18          2            2426    1038       108   \n",
              "\n",
              "                                  PROD_NAME  PROD_QTY  TOT_SALES  \n",
              "0    Natural Chip        Compny SeaSalt175g         2        6.0  \n",
              "1                  CCs Nacho Cheese    175g         3        6.3  \n",
              "2    Smiths Crinkle Cut  Chips Chicken 170g         2        2.9  \n",
              "3    Smiths Chip Thinly  S/Cream&Onion 175g         5       15.0  \n",
              "4  Kettle Tortilla ChpsHny&Jlpno Chili 150g         3       13.8  "
            ]
          },
          "execution_count": 6,
          "metadata": {},
          "output_type": "execute_result"
        }
      ],
      "source": [
        "origin = pd.Timestamp(\"30/12/1899\")\n",
        "df1[\"DATE\"] = df1[\"DATE\"].apply(lambda x: origin + pd.Timedelta(days=x))\n",
        "df1.head()"
      ]
    },
    {
      "cell_type": "markdown",
      "metadata": {
        "id": "XjdI7dWEDi0H"
      },
      "source": [
        "#### Checking for unique values"
      ]
    },
    {
      "cell_type": "markdown",
      "metadata": {
        "id": "zY34dVG6yd_z"
      },
      "source": [
        "Now its time to identify outlies"
      ]
    },
    {
      "cell_type": "code",
      "execution_count": null,
      "metadata": {
        "id": "OmTLZy5oDi0I",
        "outputId": "de8b0dc9-cb70-487f-cc1f-e82ea85b60ab"
      },
      "outputs": [
        {
          "data": {
            "text/plain": [
              "DATE                 364\n",
              "STORE_NBR            272\n",
              "LYLTY_CARD_NBR     72637\n",
              "TXN_ID            263127\n",
              "PROD_NBR             114\n",
              "PROD_NAME            114\n",
              "PROD_QTY               6\n",
              "TOT_SALES            112\n",
              "dtype: int64"
            ]
          },
          "execution_count": 7,
          "metadata": {},
          "output_type": "execute_result"
        }
      ],
      "source": [
        "df1.nunique()"
      ]
    },
    {
      "cell_type": "markdown",
      "metadata": {
        "id": "bpn7OFhuykWz"
      },
      "source": [
        "Will use the boxplot to visualise the outliers"
      ]
    },
    {
      "cell_type": "code",
      "execution_count": null,
      "metadata": {
        "colab": {
          "base_uri": "https://localhost:8080/",
          "height": 300
        },
        "id": "lIujYHEeyk_Z",
        "outputId": "23b9f2d7-e548-458b-8789-710bf56bdbfd"
      },
      "outputs": [
        {
          "data": {
            "text/html": [
              "<div>\n",
              "<style scoped>\n",
              "    .dataframe tbody tr th:only-of-type {\n",
              "        vertical-align: middle;\n",
              "    }\n",
              "\n",
              "    .dataframe tbody tr th {\n",
              "        vertical-align: top;\n",
              "    }\n",
              "\n",
              "    .dataframe thead th {\n",
              "        text-align: right;\n",
              "    }\n",
              "</style>\n",
              "<table border=\"1\" class=\"dataframe\">\n",
              "  <thead>\n",
              "    <tr style=\"text-align: right;\">\n",
              "      <th></th>\n",
              "      <th>STORE_NBR</th>\n",
              "      <th>LYLTY_CARD_NBR</th>\n",
              "      <th>TXN_ID</th>\n",
              "      <th>PROD_NBR</th>\n",
              "      <th>PROD_QTY</th>\n",
              "      <th>TOT_SALES</th>\n",
              "    </tr>\n",
              "  </thead>\n",
              "  <tbody>\n",
              "    <tr>\n",
              "      <th>count</th>\n",
              "      <td>264835.000000</td>\n",
              "      <td>2.648350e+05</td>\n",
              "      <td>2.648350e+05</td>\n",
              "      <td>264835.000000</td>\n",
              "      <td>264835.000000</td>\n",
              "      <td>264835.000000</td>\n",
              "    </tr>\n",
              "    <tr>\n",
              "      <th>mean</th>\n",
              "      <td>135.080216</td>\n",
              "      <td>1.355496e+05</td>\n",
              "      <td>1.351584e+05</td>\n",
              "      <td>56.583201</td>\n",
              "      <td>1.907308</td>\n",
              "      <td>7.304205</td>\n",
              "    </tr>\n",
              "    <tr>\n",
              "      <th>std</th>\n",
              "      <td>76.784306</td>\n",
              "      <td>8.058011e+04</td>\n",
              "      <td>7.813316e+04</td>\n",
              "      <td>32.826692</td>\n",
              "      <td>0.643655</td>\n",
              "      <td>3.083231</td>\n",
              "    </tr>\n",
              "    <tr>\n",
              "      <th>min</th>\n",
              "      <td>1.000000</td>\n",
              "      <td>1.000000e+03</td>\n",
              "      <td>1.000000e+00</td>\n",
              "      <td>1.000000</td>\n",
              "      <td>1.000000</td>\n",
              "      <td>1.500000</td>\n",
              "    </tr>\n",
              "    <tr>\n",
              "      <th>25%</th>\n",
              "      <td>70.000000</td>\n",
              "      <td>7.002100e+04</td>\n",
              "      <td>6.760100e+04</td>\n",
              "      <td>28.000000</td>\n",
              "      <td>2.000000</td>\n",
              "      <td>5.400000</td>\n",
              "    </tr>\n",
              "    <tr>\n",
              "      <th>50%</th>\n",
              "      <td>130.000000</td>\n",
              "      <td>1.303580e+05</td>\n",
              "      <td>1.351380e+05</td>\n",
              "      <td>56.000000</td>\n",
              "      <td>2.000000</td>\n",
              "      <td>7.400000</td>\n",
              "    </tr>\n",
              "    <tr>\n",
              "      <th>75%</th>\n",
              "      <td>203.000000</td>\n",
              "      <td>2.030945e+05</td>\n",
              "      <td>2.027015e+05</td>\n",
              "      <td>85.000000</td>\n",
              "      <td>2.000000</td>\n",
              "      <td>9.200000</td>\n",
              "    </tr>\n",
              "    <tr>\n",
              "      <th>max</th>\n",
              "      <td>272.000000</td>\n",
              "      <td>2.373711e+06</td>\n",
              "      <td>2.415841e+06</td>\n",
              "      <td>114.000000</td>\n",
              "      <td>200.000000</td>\n",
              "      <td>650.000000</td>\n",
              "    </tr>\n",
              "  </tbody>\n",
              "</table>\n",
              "</div>"
            ],
            "text/plain": [
              "           STORE_NBR  LYLTY_CARD_NBR        TXN_ID       PROD_NBR  \\\n",
              "count  264835.000000    2.648350e+05  2.648350e+05  264835.000000   \n",
              "mean      135.080216    1.355496e+05  1.351584e+05      56.583201   \n",
              "std        76.784306    8.058011e+04  7.813316e+04      32.826692   \n",
              "min         1.000000    1.000000e+03  1.000000e+00       1.000000   \n",
              "25%        70.000000    7.002100e+04  6.760100e+04      28.000000   \n",
              "50%       130.000000    1.303580e+05  1.351380e+05      56.000000   \n",
              "75%       203.000000    2.030945e+05  2.027015e+05      85.000000   \n",
              "max       272.000000    2.373711e+06  2.415841e+06     114.000000   \n",
              "\n",
              "            PROD_QTY      TOT_SALES  \n",
              "count  264835.000000  264835.000000  \n",
              "mean        1.907308       7.304205  \n",
              "std         0.643655       3.083231  \n",
              "min         1.000000       1.500000  \n",
              "25%         2.000000       5.400000  \n",
              "50%         2.000000       7.400000  \n",
              "75%         2.000000       9.200000  \n",
              "max       200.000000     650.000000  "
            ]
          },
          "execution_count": 9,
          "metadata": {},
          "output_type": "execute_result"
        }
      ],
      "source": [
        "df1.describe()"
      ]
    },
    {
      "cell_type": "markdown",
      "metadata": {
        "id": "O3OMP7kfDi0J"
      },
      "source": [
        "### Checking and Understanding Outliers"
      ]
    },
    {
      "cell_type": "markdown",
      "metadata": {
        "id": "nkMdtRZNDi0J"
      },
      "source": [
        "For Prod_Qty, the mean is 1.9 yet the max is 200\n",
        "\n",
        "\n",
        "For Total_sales, the mean is 7.3  yet the max is 650\n"
      ]
    },
    {
      "cell_type": "code",
      "execution_count": null,
      "metadata": {
        "id": "qzR9KoV-Di0J",
        "outputId": "a05d9edb-c14e-4ac5-c058-3eb2b2ebba6f"
      },
      "outputs": [
        {
          "data": {
            "text/html": [
              "<div>\n",
              "<style scoped>\n",
              "    .dataframe tbody tr th:only-of-type {\n",
              "        vertical-align: middle;\n",
              "    }\n",
              "\n",
              "    .dataframe tbody tr th {\n",
              "        vertical-align: top;\n",
              "    }\n",
              "\n",
              "    .dataframe thead th {\n",
              "        text-align: right;\n",
              "    }\n",
              "</style>\n",
              "<table border=\"1\" class=\"dataframe\">\n",
              "  <thead>\n",
              "    <tr style=\"text-align: right;\">\n",
              "      <th></th>\n",
              "      <th>DATE</th>\n",
              "      <th>STORE_NBR</th>\n",
              "      <th>LYLTY_CARD_NBR</th>\n",
              "      <th>TXN_ID</th>\n",
              "      <th>PROD_NBR</th>\n",
              "      <th>PROD_NAME</th>\n",
              "      <th>PROD_QTY</th>\n",
              "      <th>TOT_SALES</th>\n",
              "    </tr>\n",
              "  </thead>\n",
              "  <tbody>\n",
              "    <tr>\n",
              "      <th>69762</th>\n",
              "      <td>2018-08-19</td>\n",
              "      <td>226</td>\n",
              "      <td>226000</td>\n",
              "      <td>226201</td>\n",
              "      <td>4</td>\n",
              "      <td>Dorito Corn Chp     Supreme 380g</td>\n",
              "      <td>200</td>\n",
              "      <td>650.0</td>\n",
              "    </tr>\n",
              "    <tr>\n",
              "      <th>69763</th>\n",
              "      <td>2019-05-20</td>\n",
              "      <td>226</td>\n",
              "      <td>226000</td>\n",
              "      <td>226210</td>\n",
              "      <td>4</td>\n",
              "      <td>Dorito Corn Chp     Supreme 380g</td>\n",
              "      <td>200</td>\n",
              "      <td>650.0</td>\n",
              "    </tr>\n",
              "  </tbody>\n",
              "</table>\n",
              "</div>"
            ],
            "text/plain": [
              "            DATE  STORE_NBR  LYLTY_CARD_NBR  TXN_ID  PROD_NBR  \\\n",
              "69762 2018-08-19        226          226000  226201         4   \n",
              "69763 2019-05-20        226          226000  226210         4   \n",
              "\n",
              "                              PROD_NAME  PROD_QTY  TOT_SALES  \n",
              "69762  Dorito Corn Chp     Supreme 380g       200      650.0  \n",
              "69763  Dorito Corn Chp     Supreme 380g       200      650.0  "
            ]
          },
          "execution_count": 13,
          "metadata": {},
          "output_type": "execute_result"
        }
      ],
      "source": [
        "df1[df1.PROD_QTY > 10]"
      ]
    },
    {
      "cell_type": "markdown",
      "metadata": {
        "id": "YC6CBvhUDi0K"
      },
      "source": [
        "We identify the same customer purchasing the same product and could be the reason for the outlier in Total sales"
      ]
    },
    {
      "cell_type": "markdown",
      "metadata": {
        "id": "V6BA4liFDi0K"
      },
      "source": [
        "#### Remove outliers"
      ]
    },
    {
      "cell_type": "code",
      "execution_count": null,
      "metadata": {
        "id": "PCe6ntuVDi0L",
        "outputId": "ee85f7c5-357c-4243-c7a8-a6a9ea6adf7a"
      },
      "outputs": [
        {
          "data": {
            "text/html": [
              "<div>\n",
              "<style scoped>\n",
              "    .dataframe tbody tr th:only-of-type {\n",
              "        vertical-align: middle;\n",
              "    }\n",
              "\n",
              "    .dataframe tbody tr th {\n",
              "        vertical-align: top;\n",
              "    }\n",
              "\n",
              "    .dataframe thead th {\n",
              "        text-align: right;\n",
              "    }\n",
              "</style>\n",
              "<table border=\"1\" class=\"dataframe\">\n",
              "  <thead>\n",
              "    <tr style=\"text-align: right;\">\n",
              "      <th></th>\n",
              "      <th>STORE_NBR</th>\n",
              "      <th>LYLTY_CARD_NBR</th>\n",
              "      <th>TXN_ID</th>\n",
              "      <th>PROD_NBR</th>\n",
              "      <th>PROD_QTY</th>\n",
              "      <th>TOT_SALES</th>\n",
              "    </tr>\n",
              "  </thead>\n",
              "  <tbody>\n",
              "    <tr>\n",
              "      <th>count</th>\n",
              "      <td>264833.000000</td>\n",
              "      <td>2.648330e+05</td>\n",
              "      <td>2.648330e+05</td>\n",
              "      <td>264833.000000</td>\n",
              "      <td>264833.000000</td>\n",
              "      <td>264833.000000</td>\n",
              "    </tr>\n",
              "    <tr>\n",
              "      <th>mean</th>\n",
              "      <td>135.079529</td>\n",
              "      <td>1.355489e+05</td>\n",
              "      <td>1.351577e+05</td>\n",
              "      <td>56.583598</td>\n",
              "      <td>1.905812</td>\n",
              "      <td>7.299351</td>\n",
              "    </tr>\n",
              "    <tr>\n",
              "      <th>std</th>\n",
              "      <td>76.784189</td>\n",
              "      <td>8.058003e+04</td>\n",
              "      <td>7.813305e+04</td>\n",
              "      <td>32.826498</td>\n",
              "      <td>0.343437</td>\n",
              "      <td>2.527244</td>\n",
              "    </tr>\n",
              "    <tr>\n",
              "      <th>min</th>\n",
              "      <td>1.000000</td>\n",
              "      <td>1.000000e+03</td>\n",
              "      <td>1.000000e+00</td>\n",
              "      <td>1.000000</td>\n",
              "      <td>1.000000</td>\n",
              "      <td>1.500000</td>\n",
              "    </tr>\n",
              "    <tr>\n",
              "      <th>25%</th>\n",
              "      <td>70.000000</td>\n",
              "      <td>7.002100e+04</td>\n",
              "      <td>6.760000e+04</td>\n",
              "      <td>28.000000</td>\n",
              "      <td>2.000000</td>\n",
              "      <td>5.400000</td>\n",
              "    </tr>\n",
              "    <tr>\n",
              "      <th>50%</th>\n",
              "      <td>130.000000</td>\n",
              "      <td>1.303570e+05</td>\n",
              "      <td>1.351370e+05</td>\n",
              "      <td>56.000000</td>\n",
              "      <td>2.000000</td>\n",
              "      <td>7.400000</td>\n",
              "    </tr>\n",
              "    <tr>\n",
              "      <th>75%</th>\n",
              "      <td>203.000000</td>\n",
              "      <td>2.030940e+05</td>\n",
              "      <td>2.027000e+05</td>\n",
              "      <td>85.000000</td>\n",
              "      <td>2.000000</td>\n",
              "      <td>9.200000</td>\n",
              "    </tr>\n",
              "    <tr>\n",
              "      <th>max</th>\n",
              "      <td>272.000000</td>\n",
              "      <td>2.373711e+06</td>\n",
              "      <td>2.415841e+06</td>\n",
              "      <td>114.000000</td>\n",
              "      <td>5.000000</td>\n",
              "      <td>29.500000</td>\n",
              "    </tr>\n",
              "  </tbody>\n",
              "</table>\n",
              "</div>"
            ],
            "text/plain": [
              "           STORE_NBR  LYLTY_CARD_NBR        TXN_ID       PROD_NBR  \\\n",
              "count  264833.000000    2.648330e+05  2.648330e+05  264833.000000   \n",
              "mean      135.079529    1.355489e+05  1.351577e+05      56.583598   \n",
              "std        76.784189    8.058003e+04  7.813305e+04      32.826498   \n",
              "min         1.000000    1.000000e+03  1.000000e+00       1.000000   \n",
              "25%        70.000000    7.002100e+04  6.760000e+04      28.000000   \n",
              "50%       130.000000    1.303570e+05  1.351370e+05      56.000000   \n",
              "75%       203.000000    2.030940e+05  2.027000e+05      85.000000   \n",
              "max       272.000000    2.373711e+06  2.415841e+06     114.000000   \n",
              "\n",
              "            PROD_QTY      TOT_SALES  \n",
              "count  264833.000000  264833.000000  \n",
              "mean        1.905812       7.299351  \n",
              "std         0.343437       2.527244  \n",
              "min         1.000000       1.500000  \n",
              "25%         2.000000       5.400000  \n",
              "50%         2.000000       7.400000  \n",
              "75%         2.000000       9.200000  \n",
              "max         5.000000      29.500000  "
            ]
          },
          "execution_count": 14,
          "metadata": {},
          "output_type": "execute_result"
        }
      ],
      "source": [
        "df1 =df1[df1['PROD_QTY'] < 10].reset_index(drop=True)\n",
        "df1.describe()"
      ]
    },
    {
      "cell_type": "code",
      "execution_count": null,
      "metadata": {
        "id": "V4Fyj_sRDi0L",
        "outputId": "2257706c-d016-42f6-e153-87abce742893"
      },
      "outputs": [
        {
          "data": {
            "text/plain": [
              "DATE                 364\n",
              "STORE_NBR            272\n",
              "LYLTY_CARD_NBR     72636\n",
              "TXN_ID            263125\n",
              "PROD_NBR             114\n",
              "PROD_NAME            114\n",
              "PROD_QTY               5\n",
              "TOT_SALES            111\n",
              "dtype: int64"
            ]
          },
          "execution_count": 18,
          "metadata": {},
          "output_type": "execute_result"
        }
      ],
      "source": [
        "df1.nunique()"
      ]
    },
    {
      "cell_type": "code",
      "execution_count": null,
      "metadata": {
        "id": "CbuDMpt0Di0L",
        "outputId": "ac9b2707-ab12-4e75-d430-46059c258046"
      },
      "outputs": [
        {
          "data": {
            "text/plain": [
              "(264833, 8)"
            ]
          },
          "execution_count": 19,
          "metadata": {},
          "output_type": "execute_result"
        }
      ],
      "source": [
        "df1.shape"
      ]
    },
    {
      "cell_type": "markdown",
      "metadata": {
        "id": "2tI6ye_QDi0M"
      },
      "source": [
        "If the data has 264833 rows how come the txn_id is 263125"
      ]
    },
    {
      "cell_type": "code",
      "execution_count": null,
      "metadata": {
        "id": "v4yLnWIGDi0M",
        "outputId": "157848ed-30b4-45c2-885b-de56de195e71"
      },
      "outputs": [
        {
          "data": {
            "text/plain": [
              "1708"
            ]
          },
          "execution_count": 20,
          "metadata": {},
          "output_type": "execute_result"
        }
      ],
      "source": [
        "264833-263125"
      ]
    },
    {
      "cell_type": "code",
      "execution_count": null,
      "metadata": {
        "id": "icGXFSN1Di0M",
        "outputId": "0b13a7f2-0cf8-4719-bfc5-602b086ceacd"
      },
      "outputs": [
        {
          "data": {
            "image/png": "[encoded data removed]",
            "text/plain": [
              "<Figure size 864x432 with 1 Axes>"
            ]
          },
          "metadata": {},
          "output_type": "display_data"
        }
      ],
      "source": [
        "plt.figure(figsize=(12,6))\n",
        "sns.boxplot(data=df1, y=\"TOT_SALES\", x=\"PROD_QTY\")\n",
        "plt.title(\"Distribution of Total sales by Product Quality\");"
      ]
    },
    {
      "cell_type": "code",
      "execution_count": null,
      "metadata": {
        "id": "_JZTneDEDi0N",
        "outputId": "97490685-8b86-4e10-f308-33f4caf93a5c"
      },
      "outputs": [
        {
          "data": {
            "image/png": "[encoded data removed]",
            "text/plain": [
              "<Figure size 864x432 with 1 Axes>"
            ]
          },
          "metadata": {},
          "output_type": "display_data"
        }
      ],
      "source": [
        "plt.figure(figsize=(12,6))\n",
        "sns.boxplot(data=df1, y=\"STORE_NBR\", x=\"PROD_QTY\")\n",
        "plt.title(\"Distribution of store number by Product Quality\");"
      ]
    },
    {
      "cell_type": "markdown",
      "metadata": {
        "id": "LsEK1_44Di0N"
      },
      "source": [
        "There are no outliesr in the above"
      ]
    },
    {
      "cell_type": "code",
      "execution_count": null,
      "metadata": {
        "id": "wX8BX3W9Di0O",
        "outputId": "284f6508-b978-45e3-976b-1b694009df55"
      },
      "outputs": [
        {
          "data": {
            "text/plain": [
              "Kettle Mozzarella   Basil & Pesto 175g      3304\n",
              "Kettle Tortilla ChpsHny&Jlpno Chili 150g    3296\n",
              "Cobs Popd Swt/Chlli &Sr/Cream Chips 110g    3269\n",
              "Tyrrells Crisps     Ched & Chives 165g      3268\n",
              "Cobs Popd Sea Salt  Chips 110g              3265\n",
              "Kettle 135g Swt Pot Sea Salt                3257\n",
              "Tostitos Splash Of  Lime 175g               3252\n",
              "Infuzions Thai SweetChili PotatoMix 110g    3242\n",
              "Smiths Crnkle Chip  Orgnl Big Bag 380g      3233\n",
              "Thins Potato Chips  Hot & Spicy 175g        3229\n",
              "Kettle Sensations   Camembert & Fig 150g    3219\n",
              "Doritos Corn Chips  Cheese Supreme 170g     3217\n",
              "Pringles Barbeque   134g                    3210\n",
              "Doritos Corn Chip Mexican Jalapeno 150g     3204\n",
              "Kettle Sweet Chilli And Sour Cream 175g     3200\n",
              "Smiths Crinkle Chips Salt & Vinegar 330g    3197\n",
              "Thins Chips Light&  Tangy 175g              3188\n",
              "Dorito Corn Chp     Supreme 380g            3183\n",
              "Pringles Sweet&Spcy BBQ 134g                3177\n",
              "Infuzions BBQ Rib   Prawn Crackers 110g     3174\n",
              "Tyrrells Crisps     Lightly Salted 165g     3174\n",
              "Kettle Sea Salt     And Vinegar 175g        3173\n",
              "Doritos Corn Chip Southern Chicken 150g     3172\n",
              "Twisties Chicken270g                        3170\n",
              "Twisties Cheese     Burger 250g             3169\n",
              "Grain Waves         Sweet Chilli 210g       3167\n",
              "Pringles SourCream  Onion 134g              3162\n",
              "Doritos Corn Chips  Nacho Cheese 170g       3160\n",
              "Cobs Popd Sour Crm  &Chives Chips 110g      3159\n",
              "Kettle Original 175g                        3159\n",
              "Name: PROD_NAME, dtype: int64"
            ]
          },
          "execution_count": 32,
          "metadata": {},
          "output_type": "execute_result"
        }
      ],
      "source": [
        "#df1[\"PROD_NAME\"].value_counts()[:30]"
      ]
    },
    {
      "cell_type": "markdown",
      "metadata": {
        "id": "tDlUBTGBDi0O"
      },
      "source": [
        "### creating other Colums"
      ]
    },
    {
      "cell_type": "markdown",
      "metadata": {
        "id": "O9MMaoMcDi0O"
      },
      "source": [
        "#### Pack size"
      ]
    },
    {
      "cell_type": "code",
      "execution_count": null,
      "metadata": {
        "id": "2WQ1Rx64Di0O"
      },
      "outputs": [],
      "source": [
        "def pack_size(grp):\n",
        "    string = grp[\"PROD_NAME\"]\n",
        "    num = []\n",
        "    for i in string:\n",
        "        if i.isdigit():\n",
        "            num.append(i)\n",
        "    number = \"\".join(num)\n",
        "    return int(number)"
      ]
    },
    {
      "cell_type": "code",
      "execution_count": null,
      "metadata": {
        "id": "udxilGa3Di0P"
      },
      "outputs": [],
      "source": [
        "def pack_size(grp):\n",
        "    string = grp[\"PROD_NAME\"]\n",
        "    size = []\n",
        "    for i in string:\n",
        "        if i.isdigit():\n",
        "            size.append(i)\n",
        "    number = \"\".join(size)\n",
        "    return int(number)"
      ]
    },
    {
      "cell_type": "code",
      "execution_count": null,
      "metadata": {
        "id": "u_il1Q6DDi0P",
        "outputId": "de538766-b14a-437c-d60c-914acc2460ca"
      },
      "outputs": [
        {
          "name": "stdout",
          "output_type": "stream",
          "text": [
            "CPU times: user 1.77 s, sys: 52.9 ms, total: 1.83 s\n",
            "Wall time: 1.83 s\n"
          ]
        },
        {
          "data": {
            "text/html": [
              "<div>\n",
              "<style scoped>\n",
              "    .dataframe tbody tr th:only-of-type {\n",
              "        vertical-align: middle;\n",
              "    }\n",
              "\n",
              "    .dataframe tbody tr th {\n",
              "        vertical-align: top;\n",
              "    }\n",
              "\n",
              "    .dataframe thead th {\n",
              "        text-align: right;\n",
              "    }\n",
              "</style>\n",
              "<table border=\"1\" class=\"dataframe\">\n",
              "  <thead>\n",
              "    <tr style=\"text-align: right;\">\n",
              "      <th></th>\n",
              "      <th>DATE</th>\n",
              "      <th>STORE_NBR</th>\n",
              "      <th>LYLTY_CARD_NBR</th>\n",
              "      <th>TXN_ID</th>\n",
              "      <th>PROD_NBR</th>\n",
              "      <th>PROD_NAME</th>\n",
              "      <th>PROD_QTY</th>\n",
              "      <th>TOT_SALES</th>\n",
              "      <th>PACK_SZ</th>\n",
              "    </tr>\n",
              "  </thead>\n",
              "  <tbody>\n",
              "    <tr>\n",
              "      <th>0</th>\n",
              "      <td>2018-10-17</td>\n",
              "      <td>1</td>\n",
              "      <td>1000</td>\n",
              "      <td>1</td>\n",
              "      <td>5</td>\n",
              "      <td>Natural Chip        Compny SeaSalt175g</td>\n",
              "      <td>2</td>\n",
              "      <td>6.0</td>\n",
              "      <td>175</td>\n",
              "    </tr>\n",
              "    <tr>\n",
              "      <th>1</th>\n",
              "      <td>2019-05-14</td>\n",
              "      <td>1</td>\n",
              "      <td>1307</td>\n",
              "      <td>348</td>\n",
              "      <td>66</td>\n",
              "      <td>CCs Nacho Cheese    175g</td>\n",
              "      <td>3</td>\n",
              "      <td>6.3</td>\n",
              "      <td>175</td>\n",
              "    </tr>\n",
              "    <tr>\n",
              "      <th>2</th>\n",
              "      <td>2019-05-20</td>\n",
              "      <td>1</td>\n",
              "      <td>1343</td>\n",
              "      <td>383</td>\n",
              "      <td>61</td>\n",
              "      <td>Smiths Crinkle Cut  Chips Chicken 170g</td>\n",
              "      <td>2</td>\n",
              "      <td>2.9</td>\n",
              "      <td>170</td>\n",
              "    </tr>\n",
              "    <tr>\n",
              "      <th>3</th>\n",
              "      <td>2018-08-17</td>\n",
              "      <td>2</td>\n",
              "      <td>2373</td>\n",
              "      <td>974</td>\n",
              "      <td>69</td>\n",
              "      <td>Smiths Chip Thinly  S/Cream&amp;Onion 175g</td>\n",
              "      <td>5</td>\n",
              "      <td>15.0</td>\n",
              "      <td>175</td>\n",
              "    </tr>\n",
              "    <tr>\n",
              "      <th>4</th>\n",
              "      <td>2018-08-18</td>\n",
              "      <td>2</td>\n",
              "      <td>2426</td>\n",
              "      <td>1038</td>\n",
              "      <td>108</td>\n",
              "      <td>Kettle Tortilla ChpsHny&amp;Jlpno Chili 150g</td>\n",
              "      <td>3</td>\n",
              "      <td>13.8</td>\n",
              "      <td>150</td>\n",
              "    </tr>\n",
              "  </tbody>\n",
              "</table>\n",
              "</div>"
            ],
            "text/plain": [
              "        DATE  STORE_NBR  LYLTY_CARD_NBR  TXN_ID  PROD_NBR  \\\n",
              "0 2018-10-17          1            1000       1         5   \n",
              "1 2019-05-14          1            1307     348        66   \n",
              "2 2019-05-20          1            1343     383        61   \n",
              "3 2018-08-17          2            2373     974        69   \n",
              "4 2018-08-18          2            2426    1038       108   \n",
              "\n",
              "                                  PROD_NAME  PROD_QTY  TOT_SALES  PACK_SZ  \n",
              "0    Natural Chip        Compny SeaSalt175g         2        6.0      175  \n",
              "1                  CCs Nacho Cheese    175g         3        6.3      175  \n",
              "2    Smiths Crinkle Cut  Chips Chicken 170g         2        2.9      170  \n",
              "3    Smiths Chip Thinly  S/Cream&Onion 175g         5       15.0      175  \n",
              "4  Kettle Tortilla ChpsHny&Jlpno Chili 150g         3       13.8      150  "
            ]
          },
          "execution_count": 42,
          "metadata": {},
          "output_type": "execute_result"
        }
      ],
      "source": [
        "%%time\n",
        "df1[\"PACK_SZ\"] = df1.apply(pack_size,axis=1)\n",
        "df1.head()"
      ]
    },
    {
      "cell_type": "markdown",
      "metadata": {
        "tags": [],
        "id": "FY54EoGYDi0P"
      },
      "source": [
        "### Brand Name"
      ]
    },
    {
      "cell_type": "markdown",
      "metadata": {
        "id": "IyiIg700Di0Q"
      },
      "source": [
        "I will use the first name in the Product Name colum as a brand name"
      ]
    },
    {
      "cell_type": "code",
      "execution_count": null,
      "metadata": {
        "id": "FX8EYvWGDi0Q"
      },
      "outputs": [],
      "source": [
        "def Brand_name (bra):\n",
        "    return bra[\"PROD_NAME\"].split()[0]"
      ]
    },
    {
      "cell_type": "code",
      "execution_count": null,
      "metadata": {
        "id": "nfZGg8nvDi0Q",
        "outputId": "d4f86059-e82b-4fa4-8015-f326937d255a"
      },
      "outputs": [
        {
          "name": "stdout",
          "output_type": "stream",
          "text": [
            "CPU times: user 1.49 s, sys: 33.4 ms, total: 1.53 s\n",
            "Wall time: 1.53 s\n"
          ]
        },
        {
          "data": {
            "text/html": [
              "<div>\n",
              "<style scoped>\n",
              "    .dataframe tbody tr th:only-of-type {\n",
              "        vertical-align: middle;\n",
              "    }\n",
              "\n",
              "    .dataframe tbody tr th {\n",
              "        vertical-align: top;\n",
              "    }\n",
              "\n",
              "    .dataframe thead th {\n",
              "        text-align: right;\n",
              "    }\n",
              "</style>\n",
              "<table border=\"1\" class=\"dataframe\">\n",
              "  <thead>\n",
              "    <tr style=\"text-align: right;\">\n",
              "      <th></th>\n",
              "      <th>DATE</th>\n",
              "      <th>STORE_NBR</th>\n",
              "      <th>LYLTY_CARD_NBR</th>\n",
              "      <th>TXN_ID</th>\n",
              "      <th>PROD_NBR</th>\n",
              "      <th>PROD_NAME</th>\n",
              "      <th>PROD_QTY</th>\n",
              "      <th>TOT_SALES</th>\n",
              "      <th>PACK_SZ</th>\n",
              "      <th>BRAND_NAME</th>\n",
              "    </tr>\n",
              "  </thead>\n",
              "  <tbody>\n",
              "    <tr>\n",
              "      <th>0</th>\n",
              "      <td>2018-10-17</td>\n",
              "      <td>1</td>\n",
              "      <td>1000</td>\n",
              "      <td>1</td>\n",
              "      <td>5</td>\n",
              "      <td>Natural Chip        Compny SeaSalt175g</td>\n",
              "      <td>2</td>\n",
              "      <td>6.0</td>\n",
              "      <td>175</td>\n",
              "      <td>Natural</td>\n",
              "    </tr>\n",
              "    <tr>\n",
              "      <th>1</th>\n",
              "      <td>2019-05-14</td>\n",
              "      <td>1</td>\n",
              "      <td>1307</td>\n",
              "      <td>348</td>\n",
              "      <td>66</td>\n",
              "      <td>CCs Nacho Cheese    175g</td>\n",
              "      <td>3</td>\n",
              "      <td>6.3</td>\n",
              "      <td>175</td>\n",
              "      <td>CCs</td>\n",
              "    </tr>\n",
              "    <tr>\n",
              "      <th>2</th>\n",
              "      <td>2019-05-20</td>\n",
              "      <td>1</td>\n",
              "      <td>1343</td>\n",
              "      <td>383</td>\n",
              "      <td>61</td>\n",
              "      <td>Smiths Crinkle Cut  Chips Chicken 170g</td>\n",
              "      <td>2</td>\n",
              "      <td>2.9</td>\n",
              "      <td>170</td>\n",
              "      <td>Smiths</td>\n",
              "    </tr>\n",
              "    <tr>\n",
              "      <th>3</th>\n",
              "      <td>2018-08-17</td>\n",
              "      <td>2</td>\n",
              "      <td>2373</td>\n",
              "      <td>974</td>\n",
              "      <td>69</td>\n",
              "      <td>Smiths Chip Thinly  S/Cream&amp;Onion 175g</td>\n",
              "      <td>5</td>\n",
              "      <td>15.0</td>\n",
              "      <td>175</td>\n",
              "      <td>Smiths</td>\n",
              "    </tr>\n",
              "    <tr>\n",
              "      <th>4</th>\n",
              "      <td>2018-08-18</td>\n",
              "      <td>2</td>\n",
              "      <td>2426</td>\n",
              "      <td>1038</td>\n",
              "      <td>108</td>\n",
              "      <td>Kettle Tortilla ChpsHny&amp;Jlpno Chili 150g</td>\n",
              "      <td>3</td>\n",
              "      <td>13.8</td>\n",
              "      <td>150</td>\n",
              "      <td>Kettle</td>\n",
              "    </tr>\n",
              "  </tbody>\n",
              "</table>\n",
              "</div>"
            ],
            "text/plain": [
              "        DATE  STORE_NBR  LYLTY_CARD_NBR  TXN_ID  PROD_NBR  \\\n",
              "0 2018-10-17          1            1000       1         5   \n",
              "1 2019-05-14          1            1307     348        66   \n",
              "2 2019-05-20          1            1343     383        61   \n",
              "3 2018-08-17          2            2373     974        69   \n",
              "4 2018-08-18          2            2426    1038       108   \n",
              "\n",
              "                                  PROD_NAME  PROD_QTY  TOT_SALES  PACK_SZ  \\\n",
              "0    Natural Chip        Compny SeaSalt175g         2        6.0      175   \n",
              "1                  CCs Nacho Cheese    175g         3        6.3      175   \n",
              "2    Smiths Crinkle Cut  Chips Chicken 170g         2        2.9      170   \n",
              "3    Smiths Chip Thinly  S/Cream&Onion 175g         5       15.0      175   \n",
              "4  Kettle Tortilla ChpsHny&Jlpno Chili 150g         3       13.8      150   \n",
              "\n",
              "  BRAND_NAME  \n",
              "0    Natural  \n",
              "1        CCs  \n",
              "2     Smiths  \n",
              "3     Smiths  \n",
              "4     Kettle  "
            ]
          },
          "execution_count": 46,
          "metadata": {},
          "output_type": "execute_result"
        }
      ],
      "source": [
        "%%time\n",
        "df1[\"BRAND_NAME\"] =df1.apply(Brand_name,axis=1)\n",
        "df1.head()"
      ]
    },
    {
      "cell_type": "code",
      "execution_count": null,
      "metadata": {
        "id": "L3RJhxl0Ainb"
      },
      "outputs": [],
      "source": []
    },
    {
      "cell_type": "markdown",
      "metadata": {
        "id": "vuJe188wOCAu"
      },
      "source": [
        "## **Customer Data**"
      ]
    },
    {
      "cell_type": "markdown",
      "metadata": {
        "id": "yVZG19uHKE_F"
      },
      "source": [
        "Examine customer data – check for similar issues in the customer data, look for nulls and when you are happy merge the transaction and customer data together so it’s ready for the analysis ensuring you save your files along the way."
      ]
    },
    {
      "cell_type": "markdown",
      "metadata": {
        "id": "_dAgWyI6LCS6"
      },
      "source": [
        "#### Read the data into python"
      ]
    },
    {
      "cell_type": "code",
      "execution_count": null,
      "metadata": {
        "colab": {
          "base_uri": "https://localhost:8080/",
          "height": 206
        },
        "id": "gaURgB53JMcv",
        "outputId": "31227607-53fe-4684-fd2b-871227906483"
      },
      "outputs": [
        {
          "data": {
            "text/html": [
              "<div>\n",
              "<style scoped>\n",
              "    .dataframe tbody tr th:only-of-type {\n",
              "        vertical-align: middle;\n",
              "    }\n",
              "\n",
              "    .dataframe tbody tr th {\n",
              "        vertical-align: top;\n",
              "    }\n",
              "\n",
              "    .dataframe thead th {\n",
              "        text-align: right;\n",
              "    }\n",
              "</style>\n",
              "<table border=\"1\" class=\"dataframe\">\n",
              "  <thead>\n",
              "    <tr style=\"text-align: right;\">\n",
              "      <th></th>\n",
              "      <th>LYLTY_CARD_NBR</th>\n",
              "      <th>LIFESTAGE</th>\n",
              "      <th>PREMIUM_CUSTOMER</th>\n",
              "    </tr>\n",
              "  </thead>\n",
              "  <tbody>\n",
              "    <tr>\n",
              "      <th>0</th>\n",
              "      <td>1000</td>\n",
              "      <td>YOUNG SINGLES/COUPLES</td>\n",
              "      <td>Premium</td>\n",
              "    </tr>\n",
              "    <tr>\n",
              "      <th>1</th>\n",
              "      <td>1002</td>\n",
              "      <td>YOUNG SINGLES/COUPLES</td>\n",
              "      <td>Mainstream</td>\n",
              "    </tr>\n",
              "    <tr>\n",
              "      <th>2</th>\n",
              "      <td>1003</td>\n",
              "      <td>YOUNG FAMILIES</td>\n",
              "      <td>Budget</td>\n",
              "    </tr>\n",
              "    <tr>\n",
              "      <th>3</th>\n",
              "      <td>1004</td>\n",
              "      <td>OLDER SINGLES/COUPLES</td>\n",
              "      <td>Mainstream</td>\n",
              "    </tr>\n",
              "    <tr>\n",
              "      <th>4</th>\n",
              "      <td>1005</td>\n",
              "      <td>MIDAGE SINGLES/COUPLES</td>\n",
              "      <td>Mainstream</td>\n",
              "    </tr>\n",
              "  </tbody>\n",
              "</table>\n",
              "</div>"
            ],
            "text/plain": [
              "   LYLTY_CARD_NBR               LIFESTAGE PREMIUM_CUSTOMER\n",
              "0            1000   YOUNG SINGLES/COUPLES          Premium\n",
              "1            1002   YOUNG SINGLES/COUPLES       Mainstream\n",
              "2            1003          YOUNG FAMILIES           Budget\n",
              "3            1004   OLDER SINGLES/COUPLES       Mainstream\n",
              "4            1005  MIDAGE SINGLES/COUPLES       Mainstream"
            ]
          },
          "execution_count": 47,
          "metadata": {},
          "output_type": "execute_result"
        }
      ],
      "source": [
        "## customer Data\n",
        "df2=pd.read_csv(\"https://cdn.theforage.com/vinternships/companyassets/32A6DqtsbF7LbKdcq/QVI_purchase_behaviour.csv\")\n",
        "df2.head()"
      ]
    },
    {
      "cell_type": "markdown",
      "metadata": {
        "id": "UtSuGl7MDi0R"
      },
      "source": [
        "#### Missing Values"
      ]
    },
    {
      "cell_type": "code",
      "execution_count": null,
      "metadata": {
        "id": "G_Gxlg0aKJeM",
        "outputId": "25155995-aa39-4c32-b24e-d5bdf1760695"
      },
      "outputs": [
        {
          "data": {
            "text/plain": [
              "LYLTY_CARD_NBR      0\n",
              "LIFESTAGE           0\n",
              "PREMIUM_CUSTOMER    0\n",
              "dtype: int64"
            ]
          },
          "execution_count": 48,
          "metadata": {},
          "output_type": "execute_result"
        }
      ],
      "source": [
        "df2.isnull().sum()"
      ]
    },
    {
      "cell_type": "markdown",
      "metadata": {
        "id": "7qqaqnPQDi0R"
      },
      "source": [
        "### Understanding the Data"
      ]
    },
    {
      "cell_type": "code",
      "execution_count": null,
      "metadata": {
        "id": "gFIRuJf1Di0S",
        "outputId": "1e8f3c20-94a1-4f8e-e170-6750b0d86565"
      },
      "outputs": [
        {
          "name": "stdout",
          "output_type": "stream",
          "text": [
            "<class 'pandas.core.frame.DataFrame'>\n",
            "RangeIndex: 72637 entries, 0 to 72636\n",
            "Data columns (total 3 columns):\n",
            " #   Column            Non-Null Count  Dtype \n",
            "---  ------            --------------  ----- \n",
            " 0   LYLTY_CARD_NBR    72637 non-null  int64 \n",
            " 1   LIFESTAGE         72637 non-null  object\n",
            " 2   PREMIUM_CUSTOMER  72637 non-null  object\n",
            "dtypes: int64(1), object(2)\n",
            "memory usage: 1.7+ MB\n"
          ]
        }
      ],
      "source": [
        "df2.info()"
      ]
    },
    {
      "cell_type": "code",
      "execution_count": null,
      "metadata": {
        "id": "VT43OY2ODi0S",
        "outputId": "572212ab-c145-4177-8abf-2e58f8736720"
      },
      "outputs": [
        {
          "data": {
            "text/plain": [
              "LYLTY_CARD_NBR      72637\n",
              "LIFESTAGE               7\n",
              "PREMIUM_CUSTOMER        3\n",
              "dtype: int64"
            ]
          },
          "execution_count": 50,
          "metadata": {},
          "output_type": "execute_result"
        }
      ],
      "source": [
        "df2.nunique()"
      ]
    },
    {
      "cell_type": "code",
      "execution_count": null,
      "metadata": {
        "id": "FXhBAEYcDi0S",
        "outputId": "6a0e9451-bd8f-49c0-c449-b2ae4dbb763f"
      },
      "outputs": [
        {
          "data": {
            "text/plain": [
              "(72637, 3)"
            ]
          },
          "execution_count": 51,
          "metadata": {},
          "output_type": "execute_result"
        }
      ],
      "source": [
        "df2.shape"
      ]
    },
    {
      "cell_type": "markdown",
      "metadata": {
        "id": "1_9vhm_lDi0S"
      },
      "source": [
        "### Merge the Data"
      ]
    },
    {
      "cell_type": "code",
      "execution_count": null,
      "metadata": {
        "id": "K7s6W49hDi0T",
        "outputId": "f8cb7cba-ac4a-4bc7-83b7-58666a344a03"
      },
      "outputs": [
        {
          "data": {
            "text/html": [
              "<div>\n",
              "<style scoped>\n",
              "    .dataframe tbody tr th:only-of-type {\n",
              "        vertical-align: middle;\n",
              "    }\n",
              "\n",
              "    .dataframe tbody tr th {\n",
              "        vertical-align: top;\n",
              "    }\n",
              "\n",
              "    .dataframe thead th {\n",
              "        text-align: right;\n",
              "    }\n",
              "</style>\n",
              "<table border=\"1\" class=\"dataframe\">\n",
              "  <thead>\n",
              "    <tr style=\"text-align: right;\">\n",
              "      <th></th>\n",
              "      <th>DATE</th>\n",
              "      <th>STORE_NBR</th>\n",
              "      <th>LYLTY_CARD_NBR</th>\n",
              "      <th>TXN_ID</th>\n",
              "      <th>PROD_NBR</th>\n",
              "      <th>PROD_NAME</th>\n",
              "      <th>PROD_QTY</th>\n",
              "      <th>TOT_SALES</th>\n",
              "      <th>PACK_SZ</th>\n",
              "      <th>BRAND_NAME</th>\n",
              "      <th>LIFESTAGE</th>\n",
              "      <th>PREMIUM_CUSTOMER</th>\n",
              "    </tr>\n",
              "  </thead>\n",
              "  <tbody>\n",
              "    <tr>\n",
              "      <th>0</th>\n",
              "      <td>2018-10-17</td>\n",
              "      <td>1</td>\n",
              "      <td>1000</td>\n",
              "      <td>1</td>\n",
              "      <td>5</td>\n",
              "      <td>Natural Chip        Compny SeaSalt175g</td>\n",
              "      <td>2</td>\n",
              "      <td>6.0</td>\n",
              "      <td>175</td>\n",
              "      <td>Natural</td>\n",
              "      <td>YOUNG SINGLES/COUPLES</td>\n",
              "      <td>Premium</td>\n",
              "    </tr>\n",
              "    <tr>\n",
              "      <th>1</th>\n",
              "      <td>2019-05-14</td>\n",
              "      <td>1</td>\n",
              "      <td>1307</td>\n",
              "      <td>348</td>\n",
              "      <td>66</td>\n",
              "      <td>CCs Nacho Cheese    175g</td>\n",
              "      <td>3</td>\n",
              "      <td>6.3</td>\n",
              "      <td>175</td>\n",
              "      <td>CCs</td>\n",
              "      <td>MIDAGE SINGLES/COUPLES</td>\n",
              "      <td>Budget</td>\n",
              "    </tr>\n",
              "    <tr>\n",
              "      <th>2</th>\n",
              "      <td>2019-05-20</td>\n",
              "      <td>1</td>\n",
              "      <td>1343</td>\n",
              "      <td>383</td>\n",
              "      <td>61</td>\n",
              "      <td>Smiths Crinkle Cut  Chips Chicken 170g</td>\n",
              "      <td>2</td>\n",
              "      <td>2.9</td>\n",
              "      <td>170</td>\n",
              "      <td>Smiths</td>\n",
              "      <td>MIDAGE SINGLES/COUPLES</td>\n",
              "      <td>Budget</td>\n",
              "    </tr>\n",
              "    <tr>\n",
              "      <th>3</th>\n",
              "      <td>2018-08-17</td>\n",
              "      <td>2</td>\n",
              "      <td>2373</td>\n",
              "      <td>974</td>\n",
              "      <td>69</td>\n",
              "      <td>Smiths Chip Thinly  S/Cream&amp;Onion 175g</td>\n",
              "      <td>5</td>\n",
              "      <td>15.0</td>\n",
              "      <td>175</td>\n",
              "      <td>Smiths</td>\n",
              "      <td>MIDAGE SINGLES/COUPLES</td>\n",
              "      <td>Budget</td>\n",
              "    </tr>\n",
              "    <tr>\n",
              "      <th>4</th>\n",
              "      <td>2018-08-18</td>\n",
              "      <td>2</td>\n",
              "      <td>2426</td>\n",
              "      <td>1038</td>\n",
              "      <td>108</td>\n",
              "      <td>Kettle Tortilla ChpsHny&amp;Jlpno Chili 150g</td>\n",
              "      <td>3</td>\n",
              "      <td>13.8</td>\n",
              "      <td>150</td>\n",
              "      <td>Kettle</td>\n",
              "      <td>MIDAGE SINGLES/COUPLES</td>\n",
              "      <td>Budget</td>\n",
              "    </tr>\n",
              "  </tbody>\n",
              "</table>\n",
              "</div>"
            ],
            "text/plain": [
              "        DATE  STORE_NBR  LYLTY_CARD_NBR  TXN_ID  PROD_NBR  \\\n",
              "0 2018-10-17          1            1000       1         5   \n",
              "1 2019-05-14          1            1307     348        66   \n",
              "2 2019-05-20          1            1343     383        61   \n",
              "3 2018-08-17          2            2373     974        69   \n",
              "4 2018-08-18          2            2426    1038       108   \n",
              "\n",
              "                                  PROD_NAME  PROD_QTY  TOT_SALES  PACK_SZ  \\\n",
              "0    Natural Chip        Compny SeaSalt175g         2        6.0      175   \n",
              "1                  CCs Nacho Cheese    175g         3        6.3      175   \n",
              "2    Smiths Crinkle Cut  Chips Chicken 170g         2        2.9      170   \n",
              "3    Smiths Chip Thinly  S/Cream&Onion 175g         5       15.0      175   \n",
              "4  Kettle Tortilla ChpsHny&Jlpno Chili 150g         3       13.8      150   \n",
              "\n",
              "  BRAND_NAME               LIFESTAGE PREMIUM_CUSTOMER  \n",
              "0    Natural   YOUNG SINGLES/COUPLES          Premium  \n",
              "1        CCs  MIDAGE SINGLES/COUPLES           Budget  \n",
              "2     Smiths  MIDAGE SINGLES/COUPLES           Budget  \n",
              "3     Smiths  MIDAGE SINGLES/COUPLES           Budget  \n",
              "4     Kettle  MIDAGE SINGLES/COUPLES           Budget  "
            ]
          },
          "execution_count": 52,
          "metadata": {},
          "output_type": "execute_result"
        }
      ],
      "source": [
        "df = df1.join(df2.set_index('LYLTY_CARD_NBR'), on = 'LYLTY_CARD_NBR')\n",
        "df.head()"
      ]
    },
    {
      "cell_type": "code",
      "execution_count": null,
      "metadata": {
        "id": "ui5tYdIPDi0T",
        "outputId": "f2abbc25-3b4a-40a4-df46-85bc53a5ccb3"
      },
      "outputs": [
        {
          "data": {
            "text/plain": [
              "(264833, 12)"
            ]
          },
          "execution_count": 53,
          "metadata": {},
          "output_type": "execute_result"
        }
      ],
      "source": [
        "df.shape"
      ]
    },
    {
      "cell_type": "code",
      "execution_count": null,
      "metadata": {
        "id": "b2RnvcTQDi0T"
      },
      "outputs": [],
      "source": []
    }
  ],
  "metadata": {
    "colab": {
      "provenance": [],
      "include_colab_link": true
    },
    "kernelspec": {
      "display_name": "Python 3 (ipykernel)",
      "language": "python",
      "name": "python3"
    },
    "language_info": {
      "codemirror_mode": {
        "name": "ipython",
        "version": 3
      },
      "file_extension": ".py",
      "mimetype": "text/x-python",
      "name": "python",
      "nbconvert_exporter": "python",
      "pygments_lexer": "ipython3",
      "version": "3.9.7"
    }
  },
  "nbformat": 4,
  "nbformat_minor": 0
}